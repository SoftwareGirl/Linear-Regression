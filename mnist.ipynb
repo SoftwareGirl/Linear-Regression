{
 "cells": [
  {
   "cell_type": "code",
   "execution_count": 1,
   "id": "94f7902d-60f1-4b93-ba62-21fbfc033a6b",
   "metadata": {},
   "outputs": [],
   "source": [
    "\n",
    "!pip install -Uqq fastbook\n",
    "import fastbook\n",
    "from fastbook import *\n",
    "from matplotlib import pyplot as plt"
   ]
  },
  {
   "cell_type": "code",
   "execution_count": 2,
   "id": "62e10b91-880b-4ef6-ad1a-90d28ba110e6",
   "metadata": {},
   "outputs": [
    {
     "data": {
      "text/html": [
       "\n",
       "<style>\n",
       "    /* Turns off some styling */\n",
       "    progress {\n",
       "        /* gets rid of default border in Firefox and Opera. */\n",
       "        border: none;\n",
       "        /* Needs to be in here for Safari polyfill so background images work as expected. */\n",
       "        background-size: auto;\n",
       "    }\n",
       "    progress:not([value]), progress:not([value])::-webkit-progress-bar {\n",
       "        background: repeating-linear-gradient(45deg, #7e7e7e, #7e7e7e 10px, #5c5c5c 10px, #5c5c5c 20px);\n",
       "    }\n",
       "    .progress-bar-interrupted, .progress-bar-interrupted::-webkit-progress-bar {\n",
       "        background: #F44336;\n",
       "    }\n",
       "</style>\n"
      ],
      "text/plain": [
       "<IPython.core.display.HTML object>"
      ]
     },
     "metadata": {},
     "output_type": "display_data"
    },
    {
     "data": {
      "text/html": [
       "\n",
       "    <div>\n",
       "      <progress value='3219456' class='' max='3214948' style='width:300px; height:20px; vertical-align: middle;'></progress>\n",
       "      100.14% [3219456/3214948 00:00&lt;00:00]\n",
       "    </div>\n",
       "    "
      ],
      "text/plain": [
       "<IPython.core.display.HTML object>"
      ]
     },
     "metadata": {},
     "output_type": "display_data"
    },
    {
     "data": {
      "text/plain": [
       "Path('/Users/zahrazaredar/.fastai/data/mnist_sample')"
      ]
     },
     "execution_count": 2,
     "metadata": {},
     "output_type": "execute_result"
    }
   ],
   "source": [
    "path = untar_data(URLs.MNIST_SAMPLE)\n",
    "path"
   ]
  },
  {
   "cell_type": "code",
   "execution_count": 3,
   "id": "f6a77298-ed5b-4b95-818e-734e5ddfeb1b",
   "metadata": {},
   "outputs": [
    {
     "data": {
      "text/plain": [
       "(#3) [Path('/Users/zahrazaredar/.fastai/data/mnist_sample/valid'),Path('/Users/zahrazaredar/.fastai/data/mnist_sample/labels.csv'),Path('/Users/zahrazaredar/.fastai/data/mnist_sample/train')]"
      ]
     },
     "execution_count": 3,
     "metadata": {},
     "output_type": "execute_result"
    }
   ],
   "source": [
    "path.ls()"
   ]
  },
  {
   "cell_type": "code",
   "execution_count": 4,
   "id": "34d4f2a4-2864-4bac-91b2-71a7f8ffb83f",
   "metadata": {},
   "outputs": [
    {
     "data": {
      "text/plain": [
       "(#2) [Path('/Users/zahrazaredar/.fastai/data/mnist_sample/train/7'),Path('/Users/zahrazaredar/.fastai/data/mnist_sample/train/3')]"
      ]
     },
     "execution_count": 4,
     "metadata": {},
     "output_type": "execute_result"
    }
   ],
   "source": [
    "(path /\"train\").ls()"
   ]
  },
  {
   "cell_type": "code",
   "execution_count": 5,
   "id": "620e3b9c-7880-4a58-8af5-9b6caf408ce1",
   "metadata": {},
   "outputs": [],
   "source": [
    "threes = (path/'train/3').ls().sorted()\n",
    "sevens = (path/'train/7').ls().sorted()"
   ]
  },
  {
   "cell_type": "code",
   "execution_count": 6,
   "id": "911e416d-147b-456c-8208-53ec14cd67a1",
   "metadata": {},
   "outputs": [
    {
     "data": {
      "image/jpeg": "[encoded data removed]",
      "image/png": "[encoded data removed]",
      "text/plain": [
       "<PIL.PngImagePlugin.PngImageFile image mode=L size=28x28>"
      ]
     },
     "execution_count": 6,
     "metadata": {},
     "output_type": "execute_result"
    }
   ],
   "source": [
    "sevens\n",
    "im10_path = sevens[10]\n",
    "im7 = Image.open(im10_path)\n",
    "im7"
   ]
  },
  {
   "cell_type": "code",
   "execution_count": 7,
   "id": "db94a2f5-30ec-48f9-b154-6a54465ad0a6",
   "metadata": {},
   "outputs": [
    {
     "data": {
      "text/plain": [
       "<matplotlib.image.AxesImage at 0x28efde450>"
      ]
     },
     "execution_count": 7,
     "metadata": {},
     "output_type": "execute_result"
    },
    {
     "data": {
      "image/png": "[encoded data removed]",
      "text/plain": [
       "<Figure size 640x480 with 1 Axes>"
      ]
     },
     "metadata": {},
     "output_type": "display_data"
    }
   ],
   "source": [
    "im7_array = array(im7)\n",
    "plt.imshow(im7_array)"
   ]
  },
  {
   "cell_type": "code",
   "execution_count": 8,
   "id": "eff26a9e-61d8-400b-8b0b-806c2debb733",
   "metadata": {},
   "outputs": [
    {
     "data": {
      "text/plain": [
       "<matplotlib.image.AxesImage at 0x2996ed6d0>"
      ]
     },
     "execution_count": 8,
     "metadata": {},
     "output_type": "execute_result"
    },
    {
     "data": {
      "image/png": "[encoded data removed]",
      "text/plain": [
       "<Figure size 640x480 with 1 Axes>"
      ]
     },
     "metadata": {},
     "output_type": "display_data"
    }
   ],
   "source": [
    "im7_tensor = tensor(im7)\n",
    "plt.imshow(im7_tensor[4:15, 4:22])"
   ]
  },
  {
   "cell_type": "code",
   "execution_count": 9,
   "id": "b0e866cc-2acb-4f5b-b8a8-08f274ae99fe",
   "metadata": {},
   "outputs": [
    {
     "data": {
      "text/html": [
       "<style type=\"text/css\">\n",
       "#T_69bf2_row0_col0, #T_69bf2_row0_col1, #T_69bf2_row0_col2, #T_69bf2_row0_col3, #T_69bf2_row0_col4, #T_69bf2_row0_col5, #T_69bf2_row0_col6, #T_69bf2_row0_col7, #T_69bf2_row0_col8, #T_69bf2_row0_col9, #T_69bf2_row0_col10, #T_69bf2_row0_col11, #T_69bf2_row0_col12, #T_69bf2_row0_col13, #T_69bf2_row0_col14, #T_69bf2_row0_col15, #T_69bf2_row0_col16, #T_69bf2_row0_col17, #T_69bf2_row1_col0, #T_69bf2_row1_col1, #T_69bf2_row1_col2, #T_69bf2_row1_col3, #T_69bf2_row1_col4, #T_69bf2_row1_col5, #T_69bf2_row1_col6, #T_69bf2_row1_col7, #T_69bf2_row1_col8, #T_69bf2_row1_col9, #T_69bf2_row1_col10, #T_69bf2_row1_col11, #T_69bf2_row1_col12, #T_69bf2_row1_col13, #T_69bf2_row1_col14, #T_69bf2_row1_col15, #T_69bf2_row1_col16, #T_69bf2_row1_col17, #T_69bf2_row2_col0, #T_69bf2_row2_col1, #T_69bf2_row2_col2, #T_69bf2_row2_col3, #T_69bf2_row2_col4, #T_69bf2_row2_col5, #T_69bf2_row2_col6, #T_69bf2_row2_col7, #T_69bf2_row2_col8, #T_69bf2_row2_col9, #T_69bf2_row2_col10, #T_69bf2_row2_col11, #T_69bf2_row2_col17, #T_69bf2_row3_col0, #T_69bf2_row3_col1, #T_69bf2_row3_col2, #T_69bf2_row3_col3, #T_69bf2_row3_col4, #T_69bf2_row3_col5, #T_69bf2_row3_col6, #T_69bf2_row3_col7, #T_69bf2_row3_col8, #T_69bf2_row3_col17, #T_69bf2_row4_col0, #T_69bf2_row4_col1, #T_69bf2_row4_col2, #T_69bf2_row4_col3, #T_69bf2_row4_col4, #T_69bf2_row4_col17, #T_69bf2_row5_col0, #T_69bf2_row5_col1, #T_69bf2_row5_col2, #T_69bf2_row5_col3, #T_69bf2_row5_col11, #T_69bf2_row5_col12, #T_69bf2_row5_col13, #T_69bf2_row5_col17, #T_69bf2_row6_col0, #T_69bf2_row6_col1, #T_69bf2_row6_col2, #T_69bf2_row6_col10, #T_69bf2_row6_col11, #T_69bf2_row6_col12, #T_69bf2_row6_col17, #T_69bf2_row7_col0, #T_69bf2_row7_col1, #T_69bf2_row7_col8, #T_69bf2_row7_col9, #T_69bf2_row7_col10, #T_69bf2_row7_col11, #T_69bf2_row7_col12, #T_69bf2_row7_col16, #T_69bf2_row7_col17, #T_69bf2_row8_col0, #T_69bf2_row8_col1, #T_69bf2_row8_col6, #T_69bf2_row8_col7, #T_69bf2_row8_col8, #T_69bf2_row8_col9, #T_69bf2_row8_col10, #T_69bf2_row8_col11, #T_69bf2_row8_col16, #T_69bf2_row8_col17, #T_69bf2_row9_col0, #T_69bf2_row9_col1, #T_69bf2_row9_col2, #T_69bf2_row9_col5, #T_69bf2_row9_col6, #T_69bf2_row9_col7, #T_69bf2_row9_col8, #T_69bf2_row9_col9, #T_69bf2_row9_col10, #T_69bf2_row9_col11, #T_69bf2_row9_col15, #T_69bf2_row9_col16, #T_69bf2_row9_col17, #T_69bf2_row10_col0, #T_69bf2_row10_col1, #T_69bf2_row10_col2, #T_69bf2_row10_col3, #T_69bf2_row10_col4, #T_69bf2_row10_col5, #T_69bf2_row10_col6, #T_69bf2_row10_col7, #T_69bf2_row10_col8, #T_69bf2_row10_col9, #T_69bf2_row10_col10, #T_69bf2_row10_col15, #T_69bf2_row10_col16, #T_69bf2_row10_col17 {\n",
       "  font-size: 6pt;\n",
       "  background-color: #f7fcfd;\n",
       "  color: #000000;\n",
       "}\n",
       "#T_69bf2_row2_col12, #T_69bf2_row2_col16, #T_69bf2_row10_col14 {\n",
       "  font-size: 6pt;\n",
       "  background-color: #e1edf5;\n",
       "  color: #000000;\n",
       "}\n",
       "#T_69bf2_row2_col13 {\n",
       "  font-size: 6pt;\n",
       "  background-color: #8c93c4;\n",
       "  color: #f1f1f1;\n",
       "}\n",
       "#T_69bf2_row2_col14 {\n",
       "  font-size: 6pt;\n",
       "  background-color: #8a51a5;\n",
       "  color: #f1f1f1;\n",
       "}\n",
       "#T_69bf2_row2_col15 {\n",
       "  font-size: 6pt;\n",
       "  background-color: #640761;\n",
       "  color: #f1f1f1;\n",
       "}\n",
       "#T_69bf2_row3_col9 {\n",
       "  font-size: 6pt;\n",
       "  background-color: #e1ecf4;\n",
       "  color: #000000;\n",
       "}\n",
       "#T_69bf2_row3_col10 {\n",
       "  font-size: 6pt;\n",
       "  background-color: #9cb7d7;\n",
       "  color: #000000;\n",
       "}\n",
       "#T_69bf2_row3_col11 {\n",
       "  font-size: 6pt;\n",
       "  background-color: #863293;\n",
       "  color: #f1f1f1;\n",
       "}\n",
       "#T_69bf2_row3_col12, #T_69bf2_row3_col15, #T_69bf2_row4_col9, #T_69bf2_row4_col10, #T_69bf2_row4_col11, #T_69bf2_row4_col15, #T_69bf2_row4_col16, #T_69bf2_row5_col6, #T_69bf2_row5_col7, #T_69bf2_row5_col8, #T_69bf2_row5_col15, #T_69bf2_row6_col5, #T_69bf2_row6_col6, #T_69bf2_row7_col4, #T_69bf2_row7_col14, #T_69bf2_row8_col2, #T_69bf2_row8_col3, #T_69bf2_row9_col13 {\n",
       "  font-size: 6pt;\n",
       "  background-color: #4d004b;\n",
       "  color: #f1f1f1;\n",
       "}\n",
       "#T_69bf2_row3_col13, #T_69bf2_row10_col12 {\n",
       "  font-size: 6pt;\n",
       "  background-color: #61065d;\n",
       "  color: #f1f1f1;\n",
       "}\n",
       "#T_69bf2_row3_col14 {\n",
       "  font-size: 6pt;\n",
       "  background-color: #800f7b;\n",
       "  color: #f1f1f1;\n",
       "}\n",
       "#T_69bf2_row3_col16 {\n",
       "  font-size: 6pt;\n",
       "  background-color: #8c8dc2;\n",
       "  color: #f1f1f1;\n",
       "}\n",
       "#T_69bf2_row4_col5 {\n",
       "  font-size: 6pt;\n",
       "  background-color: #f1f8fb;\n",
       "  color: #000000;\n",
       "}\n",
       "#T_69bf2_row4_col6 {\n",
       "  font-size: 6pt;\n",
       "  background-color: #8b5caa;\n",
       "  color: #f1f1f1;\n",
       "}\n",
       "#T_69bf2_row4_col7 {\n",
       "  font-size: 6pt;\n",
       "  background-color: #8c81bc;\n",
       "  color: #f1f1f1;\n",
       "}\n",
       "#T_69bf2_row4_col8 {\n",
       "  font-size: 6pt;\n",
       "  background-color: #8949a1;\n",
       "  color: #f1f1f1;\n",
       "}\n",
       "#T_69bf2_row4_col12 {\n",
       "  font-size: 6pt;\n",
       "  background-color: #909fcb;\n",
       "  color: #f1f1f1;\n",
       "}\n",
       "#T_69bf2_row4_col13 {\n",
       "  font-size: 6pt;\n",
       "  background-color: #d8e6f0;\n",
       "  color: #000000;\n",
       "}\n",
       "#T_69bf2_row4_col14 {\n",
       "  font-size: 6pt;\n",
       "  background-color: #cfdfed;\n",
       "  color: #000000;\n",
       "}\n",
       "#T_69bf2_row5_col4, #T_69bf2_row6_col13 {\n",
       "  font-size: 6pt;\n",
       "  background-color: #ecf4f9;\n",
       "  color: #000000;\n",
       "}\n",
       "#T_69bf2_row5_col5 {\n",
       "  font-size: 6pt;\n",
       "  background-color: #a5c1dc;\n",
       "  color: #000000;\n",
       "}\n",
       "#T_69bf2_row5_col9 {\n",
       "  font-size: 6pt;\n",
       "  background-color: #842289;\n",
       "  color: #f1f1f1;\n",
       "}\n",
       "#T_69bf2_row5_col10, #T_69bf2_row6_col8, #T_69bf2_row10_col11 {\n",
       "  font-size: 6pt;\n",
       "  background-color: #e0ecf4;\n",
       "  color: #000000;\n",
       "}\n",
       "#T_69bf2_row5_col14 {\n",
       "  font-size: 6pt;\n",
       "  background-color: #b2cae1;\n",
       "  color: #000000;\n",
       "}\n",
       "#T_69bf2_row5_col16 {\n",
       "  font-size: 6pt;\n",
       "  background-color: #832088;\n",
       "  color: #f1f1f1;\n",
       "}\n",
       "#T_69bf2_row6_col3 {\n",
       "  font-size: 6pt;\n",
       "  background-color: #ebf3f8;\n",
       "  color: #000000;\n",
       "}\n",
       "#T_69bf2_row6_col4 {\n",
       "  font-size: 6pt;\n",
       "  background-color: #8c70b3;\n",
       "  color: #f1f1f1;\n",
       "}\n",
       "#T_69bf2_row6_col7 {\n",
       "  font-size: 6pt;\n",
       "  background-color: #88459f;\n",
       "  color: #f1f1f1;\n",
       "}\n",
       "#T_69bf2_row6_col9 {\n",
       "  font-size: 6pt;\n",
       "  background-color: #f3f9fc;\n",
       "  color: #000000;\n",
       "}\n",
       "#T_69bf2_row6_col14 {\n",
       "  font-size: 6pt;\n",
       "  background-color: #873696;\n",
       "  color: #f1f1f1;\n",
       "}\n",
       "#T_69bf2_row6_col15 {\n",
       "  font-size: 6pt;\n",
       "  background-color: #5f055c;\n",
       "  color: #f1f1f1;\n",
       "}\n",
       "#T_69bf2_row6_col16 {\n",
       "  font-size: 6pt;\n",
       "  background-color: #ccddec;\n",
       "  color: #000000;\n",
       "}\n",
       "#T_69bf2_row7_col2 {\n",
       "  font-size: 6pt;\n",
       "  background-color: #894da3;\n",
       "  color: #f1f1f1;\n",
       "}\n",
       "#T_69bf2_row7_col3 {\n",
       "  font-size: 6pt;\n",
       "  background-color: #831a83;\n",
       "  color: #f1f1f1;\n",
       "}\n",
       "#T_69bf2_row7_col5 {\n",
       "  font-size: 6pt;\n",
       "  background-color: #50014e;\n",
       "  color: #f1f1f1;\n",
       "}\n",
       "#T_69bf2_row7_col6 {\n",
       "  font-size: 6pt;\n",
       "  background-color: #8c89c0;\n",
       "  color: #f1f1f1;\n",
       "}\n",
       "#T_69bf2_row7_col7 {\n",
       "  font-size: 6pt;\n",
       "  background-color: #f6fbfc;\n",
       "  color: #000000;\n",
       "}\n",
       "#T_69bf2_row7_col13 {\n",
       "  font-size: 6pt;\n",
       "  background-color: #abc5df;\n",
       "  color: #000000;\n",
       "}\n",
       "#T_69bf2_row7_col15 {\n",
       "  font-size: 6pt;\n",
       "  background-color: #770c73;\n",
       "  color: #f1f1f1;\n",
       "}\n",
       "#T_69bf2_row8_col4, #T_69bf2_row8_col14 {\n",
       "  font-size: 6pt;\n",
       "  background-color: #670864;\n",
       "  color: #f1f1f1;\n",
       "}\n",
       "#T_69bf2_row8_col5 {\n",
       "  font-size: 6pt;\n",
       "  background-color: #a7c2dd;\n",
       "  color: #000000;\n",
       "}\n",
       "#T_69bf2_row8_col12 {\n",
       "  font-size: 6pt;\n",
       "  background-color: #f4fafc;\n",
       "  color: #000000;\n",
       "}\n",
       "#T_69bf2_row8_col13 {\n",
       "  font-size: 6pt;\n",
       "  background-color: #863595;\n",
       "  color: #f1f1f1;\n",
       "}\n",
       "#T_69bf2_row8_col15 {\n",
       "  font-size: 6pt;\n",
       "  background-color: #c4d7e8;\n",
       "  color: #000000;\n",
       "}\n",
       "#T_69bf2_row9_col3 {\n",
       "  font-size: 6pt;\n",
       "  background-color: #f3f9fb;\n",
       "  color: #000000;\n",
       "}\n",
       "#T_69bf2_row9_col4 {\n",
       "  font-size: 6pt;\n",
       "  background-color: #f2f8fb;\n",
       "  color: #000000;\n",
       "}\n",
       "#T_69bf2_row9_col12 {\n",
       "  font-size: 6pt;\n",
       "  background-color: #8c91c4;\n",
       "  color: #f1f1f1;\n",
       "}\n",
       "#T_69bf2_row9_col14 {\n",
       "  font-size: 6pt;\n",
       "  background-color: #8948a0;\n",
       "  color: #f1f1f1;\n",
       "}\n",
       "#T_69bf2_row10_col13 {\n",
       "  font-size: 6pt;\n",
       "  background-color: #5c0459;\n",
       "  color: #f1f1f1;\n",
       "}\n",
       "</style>\n",
       "<table id=\"T_69bf2\">\n",
       "  <thead>\n",
       "    <tr>\n",
       "      <th class=\"blank level0\" >&nbsp;</th>\n",
       "      <th id=\"T_69bf2_level0_col0\" class=\"col_heading level0 col0\" >0</th>\n",
       "      <th id=\"T_69bf2_level0_col1\" class=\"col_heading level0 col1\" >1</th>\n",
       "      <th id=\"T_69bf2_level0_col2\" class=\"col_heading level0 col2\" >2</th>\n",
       "      <th id=\"T_69bf2_level0_col3\" class=\"col_heading level0 col3\" >3</th>\n",
       "      <th id=\"T_69bf2_level0_col4\" class=\"col_heading level0 col4\" >4</th>\n",
       "      <th id=\"T_69bf2_level0_col5\" class=\"col_heading level0 col5\" >5</th>\n",
       "      <th id=\"T_69bf2_level0_col6\" class=\"col_heading level0 col6\" >6</th>\n",
       "      <th id=\"T_69bf2_level0_col7\" class=\"col_heading level0 col7\" >7</th>\n",
       "      <th id=\"T_69bf2_level0_col8\" class=\"col_heading level0 col8\" >8</th>\n",
       "      <th id=\"T_69bf2_level0_col9\" class=\"col_heading level0 col9\" >9</th>\n",
       "      <th id=\"T_69bf2_level0_col10\" class=\"col_heading level0 col10\" >10</th>\n",
       "      <th id=\"T_69bf2_level0_col11\" class=\"col_heading level0 col11\" >11</th>\n",
       "      <th id=\"T_69bf2_level0_col12\" class=\"col_heading level0 col12\" >12</th>\n",
       "      <th id=\"T_69bf2_level0_col13\" class=\"col_heading level0 col13\" >13</th>\n",
       "      <th id=\"T_69bf2_level0_col14\" class=\"col_heading level0 col14\" >14</th>\n",
       "      <th id=\"T_69bf2_level0_col15\" class=\"col_heading level0 col15\" >15</th>\n",
       "      <th id=\"T_69bf2_level0_col16\" class=\"col_heading level0 col16\" >16</th>\n",
       "      <th id=\"T_69bf2_level0_col17\" class=\"col_heading level0 col17\" >17</th>\n",
       "    </tr>\n",
       "  </thead>\n",
       "  <tbody>\n",
       "    <tr>\n",
       "      <th id=\"T_69bf2_level0_row0\" class=\"row_heading level0 row0\" >0</th>\n",
       "      <td id=\"T_69bf2_row0_col0\" class=\"data row0 col0\" >0</td>\n",
       "      <td id=\"T_69bf2_row0_col1\" class=\"data row0 col1\" >0</td>\n",
       "      <td id=\"T_69bf2_row0_col2\" class=\"data row0 col2\" >0</td>\n",
       "      <td id=\"T_69bf2_row0_col3\" class=\"data row0 col3\" >0</td>\n",
       "      <td id=\"T_69bf2_row0_col4\" class=\"data row0 col4\" >0</td>\n",
       "      <td id=\"T_69bf2_row0_col5\" class=\"data row0 col5\" >0</td>\n",
       "      <td id=\"T_69bf2_row0_col6\" class=\"data row0 col6\" >0</td>\n",
       "      <td id=\"T_69bf2_row0_col7\" class=\"data row0 col7\" >0</td>\n",
       "      <td id=\"T_69bf2_row0_col8\" class=\"data row0 col8\" >0</td>\n",
       "      <td id=\"T_69bf2_row0_col9\" class=\"data row0 col9\" >0</td>\n",
       "      <td id=\"T_69bf2_row0_col10\" class=\"data row0 col10\" >0</td>\n",
       "      <td id=\"T_69bf2_row0_col11\" class=\"data row0 col11\" >0</td>\n",
       "      <td id=\"T_69bf2_row0_col12\" class=\"data row0 col12\" >0</td>\n",
       "      <td id=\"T_69bf2_row0_col13\" class=\"data row0 col13\" >0</td>\n",
       "      <td id=\"T_69bf2_row0_col14\" class=\"data row0 col14\" >0</td>\n",
       "      <td id=\"T_69bf2_row0_col15\" class=\"data row0 col15\" >0</td>\n",
       "      <td id=\"T_69bf2_row0_col16\" class=\"data row0 col16\" >0</td>\n",
       "      <td id=\"T_69bf2_row0_col17\" class=\"data row0 col17\" >0</td>\n",
       "    </tr>\n",
       "    <tr>\n",
       "      <th id=\"T_69bf2_level0_row1\" class=\"row_heading level0 row1\" >1</th>\n",
       "      <td id=\"T_69bf2_row1_col0\" class=\"data row1 col0\" >0</td>\n",
       "      <td id=\"T_69bf2_row1_col1\" class=\"data row1 col1\" >0</td>\n",
       "      <td id=\"T_69bf2_row1_col2\" class=\"data row1 col2\" >0</td>\n",
       "      <td id=\"T_69bf2_row1_col3\" class=\"data row1 col3\" >0</td>\n",
       "      <td id=\"T_69bf2_row1_col4\" class=\"data row1 col4\" >0</td>\n",
       "      <td id=\"T_69bf2_row1_col5\" class=\"data row1 col5\" >0</td>\n",
       "      <td id=\"T_69bf2_row1_col6\" class=\"data row1 col6\" >0</td>\n",
       "      <td id=\"T_69bf2_row1_col7\" class=\"data row1 col7\" >0</td>\n",
       "      <td id=\"T_69bf2_row1_col8\" class=\"data row1 col8\" >0</td>\n",
       "      <td id=\"T_69bf2_row1_col9\" class=\"data row1 col9\" >0</td>\n",
       "      <td id=\"T_69bf2_row1_col10\" class=\"data row1 col10\" >0</td>\n",
       "      <td id=\"T_69bf2_row1_col11\" class=\"data row1 col11\" >0</td>\n",
       "      <td id=\"T_69bf2_row1_col12\" class=\"data row1 col12\" >0</td>\n",
       "      <td id=\"T_69bf2_row1_col13\" class=\"data row1 col13\" >0</td>\n",
       "      <td id=\"T_69bf2_row1_col14\" class=\"data row1 col14\" >0</td>\n",
       "      <td id=\"T_69bf2_row1_col15\" class=\"data row1 col15\" >0</td>\n",
       "      <td id=\"T_69bf2_row1_col16\" class=\"data row1 col16\" >0</td>\n",
       "      <td id=\"T_69bf2_row1_col17\" class=\"data row1 col17\" >0</td>\n",
       "    </tr>\n",
       "    <tr>\n",
       "      <th id=\"T_69bf2_level0_row2\" class=\"row_heading level0 row2\" >2</th>\n",
       "      <td id=\"T_69bf2_row2_col0\" class=\"data row2 col0\" >0</td>\n",
       "      <td id=\"T_69bf2_row2_col1\" class=\"data row2 col1\" >0</td>\n",
       "      <td id=\"T_69bf2_row2_col2\" class=\"data row2 col2\" >0</td>\n",
       "      <td id=\"T_69bf2_row2_col3\" class=\"data row2 col3\" >0</td>\n",
       "      <td id=\"T_69bf2_row2_col4\" class=\"data row2 col4\" >0</td>\n",
       "      <td id=\"T_69bf2_row2_col5\" class=\"data row2 col5\" >0</td>\n",
       "      <td id=\"T_69bf2_row2_col6\" class=\"data row2 col6\" >0</td>\n",
       "      <td id=\"T_69bf2_row2_col7\" class=\"data row2 col7\" >0</td>\n",
       "      <td id=\"T_69bf2_row2_col8\" class=\"data row2 col8\" >0</td>\n",
       "      <td id=\"T_69bf2_row2_col9\" class=\"data row2 col9\" >0</td>\n",
       "      <td id=\"T_69bf2_row2_col10\" class=\"data row2 col10\" >0</td>\n",
       "      <td id=\"T_69bf2_row2_col11\" class=\"data row2 col11\" >0</td>\n",
       "      <td id=\"T_69bf2_row2_col12\" class=\"data row2 col12\" >28</td>\n",
       "      <td id=\"T_69bf2_row2_col13\" class=\"data row2 col13\" >129</td>\n",
       "      <td id=\"T_69bf2_row2_col14\" class=\"data row2 col14\" >178</td>\n",
       "      <td id=\"T_69bf2_row2_col15\" class=\"data row2 col15\" >240</td>\n",
       "      <td id=\"T_69bf2_row2_col16\" class=\"data row2 col16\" >20</td>\n",
       "      <td id=\"T_69bf2_row2_col17\" class=\"data row2 col17\" >0</td>\n",
       "    </tr>\n",
       "    <tr>\n",
       "      <th id=\"T_69bf2_level0_row3\" class=\"row_heading level0 row3\" >3</th>\n",
       "      <td id=\"T_69bf2_row3_col0\" class=\"data row3 col0\" >0</td>\n",
       "      <td id=\"T_69bf2_row3_col1\" class=\"data row3 col1\" >0</td>\n",
       "      <td id=\"T_69bf2_row3_col2\" class=\"data row3 col2\" >0</td>\n",
       "      <td id=\"T_69bf2_row3_col3\" class=\"data row3 col3\" >0</td>\n",
       "      <td id=\"T_69bf2_row3_col4\" class=\"data row3 col4\" >0</td>\n",
       "      <td id=\"T_69bf2_row3_col5\" class=\"data row3 col5\" >0</td>\n",
       "      <td id=\"T_69bf2_row3_col6\" class=\"data row3 col6\" >0</td>\n",
       "      <td id=\"T_69bf2_row3_col7\" class=\"data row3 col7\" >0</td>\n",
       "      <td id=\"T_69bf2_row3_col8\" class=\"data row3 col8\" >0</td>\n",
       "      <td id=\"T_69bf2_row3_col9\" class=\"data row3 col9\" >29</td>\n",
       "      <td id=\"T_69bf2_row3_col10\" class=\"data row3 col10\" >98</td>\n",
       "      <td id=\"T_69bf2_row3_col11\" class=\"data row3 col11\" >181</td>\n",
       "      <td id=\"T_69bf2_row3_col12\" class=\"data row3 col12\" >237</td>\n",
       "      <td id=\"T_69bf2_row3_col13\" class=\"data row3 col13\" >242</td>\n",
       "      <td id=\"T_69bf2_row3_col14\" class=\"data row3 col14\" >223</td>\n",
       "      <td id=\"T_69bf2_row3_col15\" class=\"data row3 col15\" >254</td>\n",
       "      <td id=\"T_69bf2_row3_col16\" class=\"data row3 col16\" >89</td>\n",
       "      <td id=\"T_69bf2_row3_col17\" class=\"data row3 col17\" >0</td>\n",
       "    </tr>\n",
       "    <tr>\n",
       "      <th id=\"T_69bf2_level0_row4\" class=\"row_heading level0 row4\" >4</th>\n",
       "      <td id=\"T_69bf2_row4_col0\" class=\"data row4 col0\" >0</td>\n",
       "      <td id=\"T_69bf2_row4_col1\" class=\"data row4 col1\" >0</td>\n",
       "      <td id=\"T_69bf2_row4_col2\" class=\"data row4 col2\" >0</td>\n",
       "      <td id=\"T_69bf2_row4_col3\" class=\"data row4 col3\" >0</td>\n",
       "      <td id=\"T_69bf2_row4_col4\" class=\"data row4 col4\" >0</td>\n",
       "      <td id=\"T_69bf2_row4_col5\" class=\"data row4 col5\" >8</td>\n",
       "      <td id=\"T_69bf2_row4_col6\" class=\"data row4 col6\" >170</td>\n",
       "      <td id=\"T_69bf2_row4_col7\" class=\"data row4 col7\" >142</td>\n",
       "      <td id=\"T_69bf2_row4_col8\" class=\"data row4 col8\" >184</td>\n",
       "      <td id=\"T_69bf2_row4_col9\" class=\"data row4 col9\" >239</td>\n",
       "      <td id=\"T_69bf2_row4_col10\" class=\"data row4 col10\" >249</td>\n",
       "      <td id=\"T_69bf2_row4_col11\" class=\"data row4 col11\" >230</td>\n",
       "      <td id=\"T_69bf2_row4_col12\" class=\"data row4 col12\" >112</td>\n",
       "      <td id=\"T_69bf2_row4_col13\" class=\"data row4 col13\" >40</td>\n",
       "      <td id=\"T_69bf2_row4_col14\" class=\"data row4 col14\" >48</td>\n",
       "      <td id=\"T_69bf2_row4_col15\" class=\"data row4 col15\" >254</td>\n",
       "      <td id=\"T_69bf2_row4_col16\" class=\"data row4 col16\" >169</td>\n",
       "      <td id=\"T_69bf2_row4_col17\" class=\"data row4 col17\" >0</td>\n",
       "    </tr>\n",
       "    <tr>\n",
       "      <th id=\"T_69bf2_level0_row5\" class=\"row_heading level0 row5\" >5</th>\n",
       "      <td id=\"T_69bf2_row5_col0\" class=\"data row5 col0\" >0</td>\n",
       "      <td id=\"T_69bf2_row5_col1\" class=\"data row5 col1\" >0</td>\n",
       "      <td id=\"T_69bf2_row5_col2\" class=\"data row5 col2\" >0</td>\n",
       "      <td id=\"T_69bf2_row5_col3\" class=\"data row5 col3\" >0</td>\n",
       "      <td id=\"T_69bf2_row5_col4\" class=\"data row5 col4\" >15</td>\n",
       "      <td id=\"T_69bf2_row5_col5\" class=\"data row5 col5\" >89</td>\n",
       "      <td id=\"T_69bf2_row5_col6\" class=\"data row5 col6\" >254</td>\n",
       "      <td id=\"T_69bf2_row5_col7\" class=\"data row5 col7\" >254</td>\n",
       "      <td id=\"T_69bf2_row5_col8\" class=\"data row5 col8\" >254</td>\n",
       "      <td id=\"T_69bf2_row5_col9\" class=\"data row5 col9\" >197</td>\n",
       "      <td id=\"T_69bf2_row5_col10\" class=\"data row5 col10\" >32</td>\n",
       "      <td id=\"T_69bf2_row5_col11\" class=\"data row5 col11\" >0</td>\n",
       "      <td id=\"T_69bf2_row5_col12\" class=\"data row5 col12\" >0</td>\n",
       "      <td id=\"T_69bf2_row5_col13\" class=\"data row5 col13\" >0</td>\n",
       "      <td id=\"T_69bf2_row5_col14\" class=\"data row5 col14\" >76</td>\n",
       "      <td id=\"T_69bf2_row5_col15\" class=\"data row5 col15\" >254</td>\n",
       "      <td id=\"T_69bf2_row5_col16\" class=\"data row5 col16\" >140</td>\n",
       "      <td id=\"T_69bf2_row5_col17\" class=\"data row5 col17\" >0</td>\n",
       "    </tr>\n",
       "    <tr>\n",
       "      <th id=\"T_69bf2_level0_row6\" class=\"row_heading level0 row6\" >6</th>\n",
       "      <td id=\"T_69bf2_row6_col0\" class=\"data row6 col0\" >0</td>\n",
       "      <td id=\"T_69bf2_row6_col1\" class=\"data row6 col1\" >0</td>\n",
       "      <td id=\"T_69bf2_row6_col2\" class=\"data row6 col2\" >0</td>\n",
       "      <td id=\"T_69bf2_row6_col3\" class=\"data row6 col3\" >15</td>\n",
       "      <td id=\"T_69bf2_row6_col4\" class=\"data row6 col4\" >155</td>\n",
       "      <td id=\"T_69bf2_row6_col5\" class=\"data row6 col5\" >254</td>\n",
       "      <td id=\"T_69bf2_row6_col6\" class=\"data row6 col6\" >254</td>\n",
       "      <td id=\"T_69bf2_row6_col7\" class=\"data row6 col7\" >187</td>\n",
       "      <td id=\"T_69bf2_row6_col8\" class=\"data row6 col8\" >32</td>\n",
       "      <td id=\"T_69bf2_row6_col9\" class=\"data row6 col9\" >5</td>\n",
       "      <td id=\"T_69bf2_row6_col10\" class=\"data row6 col10\" >0</td>\n",
       "      <td id=\"T_69bf2_row6_col11\" class=\"data row6 col11\" >0</td>\n",
       "      <td id=\"T_69bf2_row6_col12\" class=\"data row6 col12\" >0</td>\n",
       "      <td id=\"T_69bf2_row6_col13\" class=\"data row6 col13\" >15</td>\n",
       "      <td id=\"T_69bf2_row6_col14\" class=\"data row6 col14\" >197</td>\n",
       "      <td id=\"T_69bf2_row6_col15\" class=\"data row6 col15\" >243</td>\n",
       "      <td id=\"T_69bf2_row6_col16\" class=\"data row6 col16\" >34</td>\n",
       "      <td id=\"T_69bf2_row6_col17\" class=\"data row6 col17\" >0</td>\n",
       "    </tr>\n",
       "    <tr>\n",
       "      <th id=\"T_69bf2_level0_row7\" class=\"row_heading level0 row7\" >7</th>\n",
       "      <td id=\"T_69bf2_row7_col0\" class=\"data row7 col0\" >0</td>\n",
       "      <td id=\"T_69bf2_row7_col1\" class=\"data row7 col1\" >0</td>\n",
       "      <td id=\"T_69bf2_row7_col2\" class=\"data row7 col2\" >5</td>\n",
       "      <td id=\"T_69bf2_row7_col3\" class=\"data row7 col3\" >190</td>\n",
       "      <td id=\"T_69bf2_row7_col4\" class=\"data row7 col4\" >254</td>\n",
       "      <td id=\"T_69bf2_row7_col5\" class=\"data row7 col5\" >252</td>\n",
       "      <td id=\"T_69bf2_row7_col6\" class=\"data row7 col6\" >136</td>\n",
       "      <td id=\"T_69bf2_row7_col7\" class=\"data row7 col7\" >2</td>\n",
       "      <td id=\"T_69bf2_row7_col8\" class=\"data row7 col8\" >0</td>\n",
       "      <td id=\"T_69bf2_row7_col9\" class=\"data row7 col9\" >0</td>\n",
       "      <td id=\"T_69bf2_row7_col10\" class=\"data row7 col10\" >0</td>\n",
       "      <td id=\"T_69bf2_row7_col11\" class=\"data row7 col11\" >0</td>\n",
       "      <td id=\"T_69bf2_row7_col12\" class=\"data row7 col12\" >0</td>\n",
       "      <td id=\"T_69bf2_row7_col13\" class=\"data row7 col13\" >83</td>\n",
       "      <td id=\"T_69bf2_row7_col14\" class=\"data row7 col14\" >254</td>\n",
       "      <td id=\"T_69bf2_row7_col15\" class=\"data row7 col15\" >228</td>\n",
       "      <td id=\"T_69bf2_row7_col16\" class=\"data row7 col16\" >0</td>\n",
       "      <td id=\"T_69bf2_row7_col17\" class=\"data row7 col17\" >0</td>\n",
       "    </tr>\n",
       "    <tr>\n",
       "      <th id=\"T_69bf2_level0_row8\" class=\"row_heading level0 row8\" >8</th>\n",
       "      <td id=\"T_69bf2_row8_col0\" class=\"data row8 col0\" >0</td>\n",
       "      <td id=\"T_69bf2_row8_col1\" class=\"data row8 col1\" >0</td>\n",
       "      <td id=\"T_69bf2_row8_col2\" class=\"data row8 col2\" >7</td>\n",
       "      <td id=\"T_69bf2_row8_col3\" class=\"data row8 col3\" >225</td>\n",
       "      <td id=\"T_69bf2_row8_col4\" class=\"data row8 col4\" >238</td>\n",
       "      <td id=\"T_69bf2_row8_col5\" class=\"data row8 col5\" >87</td>\n",
       "      <td id=\"T_69bf2_row8_col6\" class=\"data row8 col6\" >0</td>\n",
       "      <td id=\"T_69bf2_row8_col7\" class=\"data row8 col7\" >0</td>\n",
       "      <td id=\"T_69bf2_row8_col8\" class=\"data row8 col8\" >0</td>\n",
       "      <td id=\"T_69bf2_row8_col9\" class=\"data row8 col9\" >0</td>\n",
       "      <td id=\"T_69bf2_row8_col10\" class=\"data row8 col10\" >0</td>\n",
       "      <td id=\"T_69bf2_row8_col11\" class=\"data row8 col11\" >0</td>\n",
       "      <td id=\"T_69bf2_row8_col12\" class=\"data row8 col12\" >4</td>\n",
       "      <td id=\"T_69bf2_row8_col13\" class=\"data row8 col13\" >198</td>\n",
       "      <td id=\"T_69bf2_row8_col14\" class=\"data row8 col14\" >238</td>\n",
       "      <td id=\"T_69bf2_row8_col15\" class=\"data row8 col15\" >59</td>\n",
       "      <td id=\"T_69bf2_row8_col16\" class=\"data row8 col16\" >0</td>\n",
       "      <td id=\"T_69bf2_row8_col17\" class=\"data row8 col17\" >0</td>\n",
       "    </tr>\n",
       "    <tr>\n",
       "      <th id=\"T_69bf2_level0_row9\" class=\"row_heading level0 row9\" >9</th>\n",
       "      <td id=\"T_69bf2_row9_col0\" class=\"data row9 col0\" >0</td>\n",
       "      <td id=\"T_69bf2_row9_col1\" class=\"data row9 col1\" >0</td>\n",
       "      <td id=\"T_69bf2_row9_col2\" class=\"data row9 col2\" >0</td>\n",
       "      <td id=\"T_69bf2_row9_col3\" class=\"data row9 col3\" >6</td>\n",
       "      <td id=\"T_69bf2_row9_col4\" class=\"data row9 col4\" >7</td>\n",
       "      <td id=\"T_69bf2_row9_col5\" class=\"data row9 col5\" >0</td>\n",
       "      <td id=\"T_69bf2_row9_col6\" class=\"data row9 col6\" >0</td>\n",
       "      <td id=\"T_69bf2_row9_col7\" class=\"data row9 col7\" >0</td>\n",
       "      <td id=\"T_69bf2_row9_col8\" class=\"data row9 col8\" >0</td>\n",
       "      <td id=\"T_69bf2_row9_col9\" class=\"data row9 col9\" >0</td>\n",
       "      <td id=\"T_69bf2_row9_col10\" class=\"data row9 col10\" >0</td>\n",
       "      <td id=\"T_69bf2_row9_col11\" class=\"data row9 col11\" >0</td>\n",
       "      <td id=\"T_69bf2_row9_col12\" class=\"data row9 col12\" >122</td>\n",
       "      <td id=\"T_69bf2_row9_col13\" class=\"data row9 col13\" >254</td>\n",
       "      <td id=\"T_69bf2_row9_col14\" class=\"data row9 col14\" >185</td>\n",
       "      <td id=\"T_69bf2_row9_col15\" class=\"data row9 col15\" >0</td>\n",
       "      <td id=\"T_69bf2_row9_col16\" class=\"data row9 col16\" >0</td>\n",
       "      <td id=\"T_69bf2_row9_col17\" class=\"data row9 col17\" >0</td>\n",
       "    </tr>\n",
       "    <tr>\n",
       "      <th id=\"T_69bf2_level0_row10\" class=\"row_heading level0 row10\" >10</th>\n",
       "      <td id=\"T_69bf2_row10_col0\" class=\"data row10 col0\" >0</td>\n",
       "      <td id=\"T_69bf2_row10_col1\" class=\"data row10 col1\" >0</td>\n",
       "      <td id=\"T_69bf2_row10_col2\" class=\"data row10 col2\" >0</td>\n",
       "      <td id=\"T_69bf2_row10_col3\" class=\"data row10 col3\" >0</td>\n",
       "      <td id=\"T_69bf2_row10_col4\" class=\"data row10 col4\" >0</td>\n",
       "      <td id=\"T_69bf2_row10_col5\" class=\"data row10 col5\" >0</td>\n",
       "      <td id=\"T_69bf2_row10_col6\" class=\"data row10 col6\" >0</td>\n",
       "      <td id=\"T_69bf2_row10_col7\" class=\"data row10 col7\" >0</td>\n",
       "      <td id=\"T_69bf2_row10_col8\" class=\"data row10 col8\" >0</td>\n",
       "      <td id=\"T_69bf2_row10_col9\" class=\"data row10 col9\" >0</td>\n",
       "      <td id=\"T_69bf2_row10_col10\" class=\"data row10 col10\" >0</td>\n",
       "      <td id=\"T_69bf2_row10_col11\" class=\"data row10 col11\" >29</td>\n",
       "      <td id=\"T_69bf2_row10_col12\" class=\"data row10 col12\" >225</td>\n",
       "      <td id=\"T_69bf2_row10_col13\" class=\"data row10 col13\" >245</td>\n",
       "      <td id=\"T_69bf2_row10_col14\" class=\"data row10 col14\" >30</td>\n",
       "      <td id=\"T_69bf2_row10_col15\" class=\"data row10 col15\" >0</td>\n",
       "      <td id=\"T_69bf2_row10_col16\" class=\"data row10 col16\" >0</td>\n",
       "      <td id=\"T_69bf2_row10_col17\" class=\"data row10 col17\" >0</td>\n",
       "    </tr>\n",
       "  </tbody>\n",
       "</table>\n"
      ],
      "text/plain": [
       "<pandas.io.formats.style.Styler at 0x299c87090>"
      ]
     },
     "execution_count": 9,
     "metadata": {},
     "output_type": "execute_result"
    }
   ],
   "source": [
    "df = pd.DataFrame(im7_tensor[4:15, 4:22])\n",
    "df.style.set_properties(**{'font-size': '6pt'}).background_gradient('BuPu')"
   ]
  },
  {
   "cell_type": "code",
   "execution_count": 10,
   "id": "0ae9c499-4c2f-4d61-aadb-e98f4e2240f0",
   "metadata": {},
   "outputs": [],
   "source": [
    "three_tensors = [tensor(Image.open(f)) for f in threes]\n",
    "seven_tensors = [tensor(Image.open(f)) for f in sevens] "
   ]
  },
  {
   "cell_type": "code",
   "execution_count": 11,
   "id": "b3ff4bbe-f848-499e-8b1c-1a71af834431",
   "metadata": {},
   "outputs": [
    {
     "data": {
      "text/plain": [
       "6265"
      ]
     },
     "execution_count": 11,
     "metadata": {},
     "output_type": "execute_result"
    }
   ],
   "source": [
    "len(seven_tensors)"
   ]
  },
  {
   "cell_type": "code",
   "execution_count": 14,
   "id": "7e4fc663-9b0b-4e3a-9a3b-e26750910eb4",
   "metadata": {},
   "outputs": [
    {
     "data": {
      "text/plain": [
       "torch.Size([28, 28])"
      ]
     },
     "execution_count": 14,
     "metadata": {},
     "output_type": "execute_result"
    }
   ],
   "source": [
    "seven_tensors[0].shape"
   ]
  },
  {
   "cell_type": "code",
   "execution_count": 15,
   "id": "96a83784-db46-41b8-9f67-2aff0c51b2bf",
   "metadata": {},
   "outputs": [],
   "source": [
    "\n",
    "stacked_threes = torch.stack(three_tensors).float() / 255\n",
    "stacked_sevens = torch.stack(seven_tensors).float() / 255"
   ]
  },
  {
   "cell_type": "code",
   "execution_count": 17,
   "id": "f922a4a5-c6c8-4a45-ac26-7298f9b64ddf",
   "metadata": {},
   "outputs": [
    {
     "data": {
      "text/plain": [
       "torch.Size([28, 28])"
      ]
     },
     "execution_count": 17,
     "metadata": {},
     "output_type": "execute_result"
    }
   ],
   "source": [
    "stacked_threes.shape\n",
    "a_3 = stacked_threes[34]\n",
    "a_7 = stacked_sevens[54]\n",
    "a_3.shape"
   ]
  },
  {
   "cell_type": "code",
   "execution_count": 18,
   "id": "dbaf2ccc-a547-4e29-9a65-02d611953af0",
   "metadata": {},
   "outputs": [
    {
     "data": {
      "image/png": "[encoded data removed]",
      "text/plain": [
       "<Figure size 100x100 with 1 Axes>"
      ]
     },
     "metadata": {},
     "output_type": "display_data"
    },
    {
     "data": {
      "image/png": "[encoded data removed]",
      "text/plain": [
       "<Figure size 100x100 with 1 Axes>"
      ]
     },
     "metadata": {},
     "output_type": "display_data"
    }
   ],
   "source": [
    "mean3 = stacked_threes.mean(0)\n",
    "mean7 = stacked_sevens.mean(0)\n",
    "\n",
    "show_image(mean3), show_image(mean7);"
   ]
  },
  {
   "cell_type": "code",
   "execution_count": 24,
   "id": "9906fcce-1ead-43e1-85b7-6f898f4e8890",
   "metadata": {},
   "outputs": [
    {
     "name": "stdout",
     "output_type": "stream",
     "text": [
      "tensor(0.1084)\n",
      "tensor(0.1410)\n"
     ]
    }
   ],
   "source": [
    " def img_distance(a, b):\n",
    "     return (a - b).abs().mean()\n",
    "\n",
    "print(img_distance(a_7, mean7))\n",
    "print(img_distance(a_7, mean3))"
   ]
  },
  {
   "cell_type": "code",
   "execution_count": 25,
   "id": "a5616f0a-452a-4a9d-ad7d-02d222b8196a",
   "metadata": {},
   "outputs": [
    {
     "data": {
      "text/plain": [
       "(#1028) [Path('/Users/zahrazaredar/.fastai/data/mnist_sample/valid/7/9294.png'),Path('/Users/zahrazaredar/.fastai/data/mnist_sample/valid/7/1186.png'),Path('/Users/zahrazaredar/.fastai/data/mnist_sample/valid/7/6825.png'),Path('/Users/zahrazaredar/.fastai/data/mnist_sample/valid/7/4767.png'),Path('/Users/zahrazaredar/.fastai/data/mnist_sample/valid/7/6170.png'),Path('/Users/zahrazaredar/.fastai/data/mnist_sample/valid/7/6164.png'),Path('/Users/zahrazaredar/.fastai/data/mnist_sample/valid/7/9257.png'),Path('/Users/zahrazaredar/.fastai/data/mnist_sample/valid/7/4773.png'),Path('/Users/zahrazaredar/.fastai/data/mnist_sample/valid/7/8175.png'),Path('/Users/zahrazaredar/.fastai/data/mnist_sample/valid/7/6158.png')...]"
      ]
     },
     "execution_count": 25,
     "metadata": {},
     "output_type": "execute_result"
    }
   ],
   "source": [
    "(path / 'valid/7').ls()"
   ]
  },
  {
   "cell_type": "code",
   "execution_count": 26,
   "id": "c28e664a-c961-4135-bd85-72b3842d0a3f",
   "metadata": {},
   "outputs": [
    {
     "name": "stdout",
     "output_type": "stream",
     "text": [
      "torch.Size([1010, 28, 28])\n"
     ]
    }
   ],
   "source": [
    "\n",
    "# Stack tensors:\n",
    "valid_3_tensors = torch.stack([tensor(Image.open(f)) for f in (path/'valid/3').ls()])\n",
    "valid_7_tensors = torch.stack([tensor(Image.open(f)) for f in (path/'valid/7').ls()])\n",
    "\n",
    "# Normalize tensors:\n",
    "valid_3_tensors = valid_3_tensors.float()/255\n",
    "valid_7_tensors = valid_7_tensors.float()/255\n",
    "\n",
    "print(valid_3_tensors.shape)"
   ]
  },
  {
   "cell_type": "code",
   "execution_count": 33,
   "id": "0b4de76b-be95-41a6-a7d9-081b46c9378f",
   "metadata": {},
   "outputs": [
    {
     "data": {
      "text/plain": [
       "tensor(0.1331)"
      ]
     },
     "execution_count": 33,
     "metadata": {},
     "output_type": "execute_result"
    }
   ],
   "source": [
    "def mnist_distance(a,b): return (a-b).abs().mean((-1,-2))\n",
    "mnist_distance(a_3, mean3)\n",
    "     "
   ]
  },
  {
   "cell_type": "code",
   "execution_count": 34,
   "id": "86b3c1b7-4fa9-4ef0-88e6-17281dc95690",
   "metadata": {},
   "outputs": [],
   "source": [
    "def img_distance(input, mean_tensor): \n",
    "    return (input-mean_tensor).abs().mean((-1,-2))\n",
    "\n",
    "def is_3(x): \n",
    "    return (img_distance(x, mean3) < mnist_distance(x, mean7)).float()"
   ]
  },
  {
   "cell_type": "code",
   "execution_count": 35,
   "id": "50dd80df-8803-4385-b8dd-a73736b29969",
   "metadata": {},
   "outputs": [
    {
     "data": {
      "text/plain": [
       "torch.Size([1010])"
      ]
     },
     "execution_count": 35,
     "metadata": {},
     "output_type": "execute_result"
    }
   ],
   "source": [
    "is_3(valid_3_tensors).shape"
   ]
  },
  {
   "cell_type": "code",
   "execution_count": null,
   "id": "6af2bed9-4253-4526-a2de-2bcb5c38d4c2",
   "metadata": {},
   "outputs": [],
   "source": []
  }
 ],
 "metadata": {
  "kernelspec": {
   "display_name": "Python 3 (ipykernel)",
   "language": "python",
   "name": "python3"
  },
  "language_info": {
   "codemirror_mode": {
    "name": "ipython",
    "version": 3
   },
   "file_extension": ".py",
   "mimetype": "text/x-python",
   "name": "python",
   "nbconvert_exporter": "python",
   "pygments_lexer": "ipython3",
   "version": "3.11.4"
  }
 },
 "nbformat": 4,
 "nbformat_minor": 5
}
